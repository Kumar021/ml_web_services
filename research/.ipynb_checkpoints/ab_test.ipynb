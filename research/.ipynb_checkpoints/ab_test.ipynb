{
 "cells": [
  {
   "cell_type": "markdown",
   "id": "5a0b245f",
   "metadata": {},
   "source": [
    "### Run the A/B test"
   ]
  },
  {
   "cell_type": "raw",
   "id": "ff6aa50c",
   "metadata": {},
   "source": [
    "\"\"\"To run the A/B test we will write python script in the Jupyter notebook that will simulate real life A/B testing. The script will:\n",
    "\n",
    "read test data,\n",
    "send sample by sample to the server,\n",
    "get the server response and send the feedback to the server.\"\"\""
   ]
  },
  {
   "cell_type": "markdown",
   "id": "c3a3fa75",
   "metadata": {},
   "source": [
    "### import packages "
   ]
  },
  {
   "cell_type": "code",
   "execution_count": 2,
   "id": "15fc900d",
   "metadata": {},
   "outputs": [],
   "source": [
    "import json # will be needed for saving preprocessing details\n",
    "import numpy as np # for data manipulation\n",
    "import pandas as pd # for data manipulation\n",
    "from sklearn.model_selection import train_test_split # will be used for data split\n",
    "import requests"
   ]
  },
  {
   "cell_type": "markdown",
   "id": "3f45739b",
   "metadata": {},
   "source": [
    "### Importing/Load dataset"
   ]
  },
  {
   "cell_type": "code",
   "execution_count": 3,
   "id": "3ff280f5",
   "metadata": {},
   "outputs": [
    {
     "data": {
      "text/html": [
       "<div>\n",
       "<style scoped>\n",
       "    .dataframe tbody tr th:only-of-type {\n",
       "        vertical-align: middle;\n",
       "    }\n",
       "\n",
       "    .dataframe tbody tr th {\n",
       "        vertical-align: top;\n",
       "    }\n",
       "\n",
       "    .dataframe thead th {\n",
       "        text-align: right;\n",
       "    }\n",
       "</style>\n",
       "<table border=\"1\" class=\"dataframe\">\n",
       "  <thead>\n",
       "    <tr style=\"text-align: right;\">\n",
       "      <th></th>\n",
       "      <th>age</th>\n",
       "      <th>workclass</th>\n",
       "      <th>fnlwgt</th>\n",
       "      <th>education</th>\n",
       "      <th>education-num</th>\n",
       "      <th>marital-status</th>\n",
       "      <th>occupation</th>\n",
       "      <th>relationship</th>\n",
       "      <th>race</th>\n",
       "      <th>sex</th>\n",
       "      <th>capital-gain</th>\n",
       "      <th>capital-loss</th>\n",
       "      <th>hours-per-week</th>\n",
       "      <th>native-country</th>\n",
       "      <th>income</th>\n",
       "    </tr>\n",
       "  </thead>\n",
       "  <tbody>\n",
       "    <tr>\n",
       "      <th>0</th>\n",
       "      <td>39</td>\n",
       "      <td>State-gov</td>\n",
       "      <td>77516</td>\n",
       "      <td>Bachelors</td>\n",
       "      <td>13</td>\n",
       "      <td>Never-married</td>\n",
       "      <td>Adm-clerical</td>\n",
       "      <td>Not-in-family</td>\n",
       "      <td>White</td>\n",
       "      <td>Male</td>\n",
       "      <td>2174</td>\n",
       "      <td>0</td>\n",
       "      <td>40</td>\n",
       "      <td>United-States</td>\n",
       "      <td>&lt;=50K</td>\n",
       "    </tr>\n",
       "    <tr>\n",
       "      <th>1</th>\n",
       "      <td>50</td>\n",
       "      <td>Self-emp-not-inc</td>\n",
       "      <td>83311</td>\n",
       "      <td>Bachelors</td>\n",
       "      <td>13</td>\n",
       "      <td>Married-civ-spouse</td>\n",
       "      <td>Exec-managerial</td>\n",
       "      <td>Husband</td>\n",
       "      <td>White</td>\n",
       "      <td>Male</td>\n",
       "      <td>0</td>\n",
       "      <td>0</td>\n",
       "      <td>13</td>\n",
       "      <td>United-States</td>\n",
       "      <td>&lt;=50K</td>\n",
       "    </tr>\n",
       "    <tr>\n",
       "      <th>2</th>\n",
       "      <td>38</td>\n",
       "      <td>Private</td>\n",
       "      <td>215646</td>\n",
       "      <td>HS-grad</td>\n",
       "      <td>9</td>\n",
       "      <td>Divorced</td>\n",
       "      <td>Handlers-cleaners</td>\n",
       "      <td>Not-in-family</td>\n",
       "      <td>White</td>\n",
       "      <td>Male</td>\n",
       "      <td>0</td>\n",
       "      <td>0</td>\n",
       "      <td>40</td>\n",
       "      <td>United-States</td>\n",
       "      <td>&lt;=50K</td>\n",
       "    </tr>\n",
       "    <tr>\n",
       "      <th>3</th>\n",
       "      <td>53</td>\n",
       "      <td>Private</td>\n",
       "      <td>234721</td>\n",
       "      <td>11th</td>\n",
       "      <td>7</td>\n",
       "      <td>Married-civ-spouse</td>\n",
       "      <td>Handlers-cleaners</td>\n",
       "      <td>Husband</td>\n",
       "      <td>Black</td>\n",
       "      <td>Male</td>\n",
       "      <td>0</td>\n",
       "      <td>0</td>\n",
       "      <td>40</td>\n",
       "      <td>United-States</td>\n",
       "      <td>&lt;=50K</td>\n",
       "    </tr>\n",
       "    <tr>\n",
       "      <th>4</th>\n",
       "      <td>28</td>\n",
       "      <td>Private</td>\n",
       "      <td>338409</td>\n",
       "      <td>Bachelors</td>\n",
       "      <td>13</td>\n",
       "      <td>Married-civ-spouse</td>\n",
       "      <td>Prof-specialty</td>\n",
       "      <td>Wife</td>\n",
       "      <td>Black</td>\n",
       "      <td>Female</td>\n",
       "      <td>0</td>\n",
       "      <td>0</td>\n",
       "      <td>40</td>\n",
       "      <td>Cuba</td>\n",
       "      <td>&lt;=50K</td>\n",
       "    </tr>\n",
       "  </tbody>\n",
       "</table>\n",
       "</div>"
      ],
      "text/plain": [
       "   age         workclass  fnlwgt  education  education-num  \\\n",
       "0   39         State-gov   77516  Bachelors             13   \n",
       "1   50  Self-emp-not-inc   83311  Bachelors             13   \n",
       "2   38           Private  215646    HS-grad              9   \n",
       "3   53           Private  234721       11th              7   \n",
       "4   28           Private  338409  Bachelors             13   \n",
       "\n",
       "       marital-status         occupation   relationship   race     sex  \\\n",
       "0       Never-married       Adm-clerical  Not-in-family  White    Male   \n",
       "1  Married-civ-spouse    Exec-managerial        Husband  White    Male   \n",
       "2            Divorced  Handlers-cleaners  Not-in-family  White    Male   \n",
       "3  Married-civ-spouse  Handlers-cleaners        Husband  Black    Male   \n",
       "4  Married-civ-spouse     Prof-specialty           Wife  Black  Female   \n",
       "\n",
       "   capital-gain  capital-loss  hours-per-week native-country income  \n",
       "0          2174             0              40  United-States  <=50K  \n",
       "1             0             0              13  United-States  <=50K  \n",
       "2             0             0              40  United-States  <=50K  \n",
       "3             0             0              40  United-States  <=50K  \n",
       "4             0             0              40           Cuba  <=50K  "
      ]
     },
     "execution_count": 3,
     "metadata": {},
     "output_type": "execute_result"
    }
   ],
   "source": [
    "dataset = pd.read_csv('https://raw.githubusercontent.com/pplonski/datasets-for-start/master/adult/data.csv', skipinitialspace=True)\n",
    "\n",
    "new_dataset = dataset.fillna(method='ffill', axis=0)\n",
    "\n",
    "new_dataset.head()"
   ]
  },
  {
   "cell_type": "markdown",
   "id": "0cfe99e5",
   "metadata": {},
   "source": [
    "### Splitting the dataset into the Training set and Test set"
   ]
  },
  {
   "cell_type": "code",
   "execution_count": 12,
   "id": "cffb6925",
   "metadata": {},
   "outputs": [],
   "source": [
    "X = new_dataset.iloc[:, :-1]\n",
    "y = new_dataset.iloc[:, -1]\n",
    "X_train, X_test, y_train, y_test = train_test_split(X, y, test_size = 0.3, random_state=1234)"
   ]
  },
  {
   "cell_type": "code",
   "execution_count": 13,
   "id": "8ff9be83",
   "metadata": {},
   "outputs": [
    {
     "name": "stdout",
     "output_type": "stream",
     "text": [
      "       age  workclass  fnlwgt     education  education-num  \\\n",
      "29700   37    Private   34146       HS-grad              9   \n",
      "1529    37    Private   26898       HS-grad              9   \n",
      "27477   26    Private  190762  Some-college             10   \n",
      "31950   35    Private  189092     Bachelors             13   \n",
      "4732    23    Private  260019       7th-8th              4   \n",
      "...    ...        ...     ...           ...            ...   \n",
      "27852   24    Private  223367          11th              7   \n",
      "23605   20    Private  127185  Some-college             10   \n",
      "1318    41  State-gov  144928     Bachelors             13   \n",
      "25299   40    Private  199303       HS-grad              9   \n",
      "27439   38    Private   38312     Bachelors             13   \n",
      "\n",
      "           marital-status       occupation relationship   race     sex  \\\n",
      "29700  Married-civ-spouse     Craft-repair      Husband  White    Male   \n",
      "1529             Divorced  Exec-managerial    Unmarried  White  Female   \n",
      "27477  Married-civ-spouse            Sales      Husband  White    Male   \n",
      "31950  Married-civ-spouse  Exec-managerial      Husband  White    Male   \n",
      "4732        Never-married  Farming-fishing    Unmarried  Other    Male   \n",
      "...                   ...              ...          ...    ...     ...   \n",
      "27852       Never-married     Craft-repair    Unmarried  White    Male   \n",
      "23605       Never-married   Prof-specialty    Own-child  White  Female   \n",
      "1318   Married-civ-spouse   Prof-specialty      Husband  White    Male   \n",
      "25299  Married-civ-spouse     Craft-repair      Husband  White    Male   \n",
      "27439  Married-civ-spouse  Exec-managerial      Husband  White    Male   \n",
      "\n",
      "       capital-gain  capital-loss  hours-per-week native-country  \n",
      "29700             0             0              68  United-States  \n",
      "1529              0             0              12  United-States  \n",
      "27477             0             0              18  United-States  \n",
      "31950             0             0              40  United-States  \n",
      "4732              0             0              36         Mexico  \n",
      "...             ...           ...             ...            ...  \n",
      "27852             0             0              40  United-States  \n",
      "23605             0             0              15  United-States  \n",
      "1318              0             0              40  United-States  \n",
      "25299             0             0              40  United-States  \n",
      "27439         15024             0              65  United-States  \n",
      "\n",
      "[22792 rows x 14 columns]\n"
     ]
    }
   ],
   "source": [
    "print(X_train)"
   ]
  },
  {
   "cell_type": "code",
   "execution_count": 14,
   "id": "243eebc1",
   "metadata": {},
   "outputs": [
    {
     "name": "stdout",
     "output_type": "stream",
     "text": [
      "       age  workclass  fnlwgt     education  education-num  \\\n",
      "1055    32    Private   87643     Bachelors             13   \n",
      "26305   27    Private  207352     Bachelors             13   \n",
      "9568    73  State-gov   74040       7th-8th              4   \n",
      "15071   39    Private  174924       HS-grad              9   \n",
      "2012    31    Private  264936  Some-college             10   \n",
      "...    ...        ...     ...           ...            ...   \n",
      "19433   59    Private  367984     Bachelors             13   \n",
      "12825   26    Private  144483     Assoc-voc             11   \n",
      "23420   55    Private   98361     Bachelors             13   \n",
      "6259    24  Local-gov  150084  Some-college             10   \n",
      "1439    47    Private   67716       HS-grad              9   \n",
      "\n",
      "           marital-status       occupation   relationship                race  \\\n",
      "1055   Married-civ-spouse            Sales        Husband               White   \n",
      "26305  Married-civ-spouse     Tech-support        Husband  Asian-Pac-Islander   \n",
      "9568             Divorced    Other-service  Not-in-family  Asian-Pac-Islander   \n",
      "15071           Separated  Exec-managerial  Not-in-family               White   \n",
      "2012        Never-married    Other-service  Not-in-family               White   \n",
      "...                   ...              ...            ...                 ...   \n",
      "19433  Married-civ-spouse    Other-service        Husband               White   \n",
      "12825            Divorced            Sales      Own-child               White   \n",
      "23420  Married-civ-spouse  Exec-managerial        Husband               White   \n",
      "6259            Separated  Protective-serv  Not-in-family               White   \n",
      "1439   Married-civ-spouse            Sales        Husband               White   \n",
      "\n",
      "          sex  capital-gain  capital-loss  hours-per-week native-country  \n",
      "1055     Male             0             0              40  United-States  \n",
      "26305    Male             0             0              40          India  \n",
      "9568   Female             0             0              40  United-States  \n",
      "15071    Male         14344             0              40  United-States  \n",
      "2012   Female             0             0              40  United-States  \n",
      "...       ...           ...           ...             ...            ...  \n",
      "19433    Male             0             0              40  United-States  \n",
      "12825  Female           594             0              35  United-States  \n",
      "23420    Male         15024             0              55  United-States  \n",
      "6259     Male             0             0              60  United-States  \n",
      "1439     Male             0             0              40  United-States  \n",
      "\n",
      "[9769 rows x 14 columns]\n"
     ]
    }
   ],
   "source": [
    "print(X_test)"
   ]
  },
  {
   "cell_type": "markdown",
   "id": "493bdd94",
   "metadata": {},
   "source": [
    "### Let's use first 100 rows of test data for A/B test."
   ]
  },
  {
   "cell_type": "code",
   "execution_count": 20,
   "id": "214c5ecc",
   "metadata": {},
   "outputs": [],
   "source": [
    "for i in range(100):\n",
    "    input_data = dict(X_test.iloc[i])\n",
    "    target = y_test.iloc[i]\n",
    "    r = requests.post(\"http://127.0.0.1:8000/api/v1/income_classifier/predict?status=ab_testing\", input_data)\n",
    "    response =  r.json()\n",
    "    #provide feedback\n",
    "    requests.put(\"http://127.0.0.1:8000/api/v1/mlrequests/{}\".format(response[\"request_id\"]), {\"feedback\": target})\n",
    "    "
   ]
  },
  {
   "cell_type": "code",
   "execution_count": null,
   "id": "b02f726a",
   "metadata": {},
   "outputs": [],
   "source": []
  }
 ],
 "metadata": {
  "kernelspec": {
   "display_name": "Python 3",
   "language": "python",
   "name": "python3"
  },
  "language_info": {
   "codemirror_mode": {
    "name": "ipython",
    "version": 3
   },
   "file_extension": ".py",
   "mimetype": "text/x-python",
   "name": "python",
   "nbconvert_exporter": "python",
   "pygments_lexer": "ipython3",
   "version": "3.8.3"
  }
 },
 "nbformat": 4,
 "nbformat_minor": 5
}
